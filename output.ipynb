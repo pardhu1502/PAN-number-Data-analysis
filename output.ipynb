{
 "cells": [
  {
   "cell_type": "code",
   "execution_count": 42,
   "id": "d01e8a73-30ad-4a2e-9efb-8284470caa60",
   "metadata": {},
   "outputs": [],
   "source": [
    "import pandas as pd\n",
    "import re"
   ]
  },
  {
   "cell_type": "code",
   "execution_count": 43,
   "id": "17de6917-f720-4f9f-8a92-618d3d200253",
   "metadata": {},
   "outputs": [
    {
     "name": "stdout",
     "output_type": "stream",
     "text": [
      "Requirement already satisfied: openpyxl in c:\\users\\pardh\\appdata\\local\\programs\\python\\python313\\lib\\site-packages (3.1.5)\n",
      "Requirement already satisfied: et-xmlfile in c:\\users\\pardh\\appdata\\local\\programs\\python\\python313\\lib\\site-packages (from openpyxl) (2.0.0)\n"
     ]
    },
    {
     "name": "stderr",
     "output_type": "stream",
     "text": [
      "\n",
      "[notice] A new release of pip is available: 25.1.1 -> 25.2\n",
      "[notice] To update, run: python.exe -m pip install --upgrade pip\n"
     ]
    }
   ],
   "source": [
    "!pip install openpyxl"
   ]
  },
  {
   "cell_type": "code",
   "execution_count": 82,
   "id": "b0d94213-52f2-4318-816a-1a71f76a587f",
   "metadata": {},
   "outputs": [],
   "source": [
    "df=pd.read_excel(\"PAN Number Validation Dataset.xlsx\")"
   ]
  },
  {
   "cell_type": "code",
   "execution_count": 83,
   "id": "0480799f-713c-4b3d-a170-5cbdfe483249",
   "metadata": {},
   "outputs": [
    {
     "data": {
      "text/plain": [
       "10000"
      ]
     },
     "execution_count": 83,
     "metadata": {},
     "output_type": "execute_result"
    }
   ],
   "source": [
    "total_records=len(df)\n",
    "total_records"
   ]
  },
  {
   "cell_type": "code",
   "execution_count": 84,
   "id": "cdb51c61-3bd4-4396-ae43-523ddfc2be4a",
   "metadata": {},
   "outputs": [
    {
     "name": "stdout",
     "output_type": "stream",
     "text": [
      "<class 'pandas.core.frame.DataFrame'>\n",
      "RangeIndex: 10000 entries, 0 to 9999\n",
      "Data columns (total 1 columns):\n",
      " #   Column       Non-Null Count  Dtype \n",
      "---  ------       --------------  ----- \n",
      " 0   Pan_Numbers  9035 non-null   object\n",
      "dtypes: object(1)\n",
      "memory usage: 78.3+ KB\n"
     ]
    }
   ],
   "source": [
    "df.info()"
   ]
  },
  {
   "cell_type": "code",
   "execution_count": 85,
   "id": "f41ffa5a-ad54-4311-84a5-ba1330f1ad9d",
   "metadata": {},
   "outputs": [],
   "source": [
    "df[\"Pan_Numbers\"]=df[\"Pan_Numbers\"].astype(\"string\")"
   ]
  },
  {
   "cell_type": "code",
   "execution_count": 86,
   "id": "51d29297-1711-4b76-b5fd-5467e7c38e57",
   "metadata": {},
   "outputs": [],
   "source": [
    "df[\"Pan_Numbers\"]=df[\"Pan_Numbers\"].str.strip().str.upper()"
   ]
  },
  {
   "cell_type": "code",
   "execution_count": 87,
   "id": "57f403f3-2d4a-4652-bc40-8a8d53740fcc",
   "metadata": {},
   "outputs": [
    {
     "data": {
      "text/html": [
       "<div>\n",
       "<style scoped>\n",
       "    .dataframe tbody tr th:only-of-type {\n",
       "        vertical-align: middle;\n",
       "    }\n",
       "\n",
       "    .dataframe tbody tr th {\n",
       "        vertical-align: top;\n",
       "    }\n",
       "\n",
       "    .dataframe thead th {\n",
       "        text-align: right;\n",
       "    }\n",
       "</style>\n",
       "<table border=\"1\" class=\"dataframe\">\n",
       "  <thead>\n",
       "    <tr style=\"text-align: right;\">\n",
       "      <th></th>\n",
       "      <th>Pan_Numbers</th>\n",
       "    </tr>\n",
       "  </thead>\n",
       "  <tbody>\n",
       "    <tr>\n",
       "      <th>5019</th>\n",
       "      <td></td>\n",
       "    </tr>\n",
       "    <tr>\n",
       "      <th>5020</th>\n",
       "      <td></td>\n",
       "    </tr>\n",
       "  </tbody>\n",
       "</table>\n",
       "</div>"
      ],
      "text/plain": [
       "     Pan_Numbers\n",
       "5019            \n",
       "5020            "
      ]
     },
     "execution_count": 87,
     "metadata": {},
     "output_type": "execute_result"
    }
   ],
   "source": [
    "df[df[\"Pan_Numbers\"]==\"\"]"
   ]
  },
  {
   "cell_type": "code",
   "execution_count": 88,
   "id": "2bdf7a9a-03c9-4750-9f7b-3d9b9df87f7a",
   "metadata": {},
   "outputs": [
    {
     "data": {
      "text/html": [
       "<div>\n",
       "<style scoped>\n",
       "    .dataframe tbody tr th:only-of-type {\n",
       "        vertical-align: middle;\n",
       "    }\n",
       "\n",
       "    .dataframe tbody tr th {\n",
       "        vertical-align: top;\n",
       "    }\n",
       "\n",
       "    .dataframe thead th {\n",
       "        text-align: right;\n",
       "    }\n",
       "</style>\n",
       "<table border=\"1\" class=\"dataframe\">\n",
       "  <thead>\n",
       "    <tr style=\"text-align: right;\">\n",
       "      <th></th>\n",
       "      <th>Pan_Numbers</th>\n",
       "    </tr>\n",
       "  </thead>\n",
       "  <tbody>\n",
       "    <tr>\n",
       "      <th>5022</th>\n",
       "      <td>&lt;NA&gt;</td>\n",
       "    </tr>\n",
       "    <tr>\n",
       "      <th>5027</th>\n",
       "      <td>&lt;NA&gt;</td>\n",
       "    </tr>\n",
       "    <tr>\n",
       "      <th>5033</th>\n",
       "      <td>&lt;NA&gt;</td>\n",
       "    </tr>\n",
       "    <tr>\n",
       "      <th>5043</th>\n",
       "      <td>&lt;NA&gt;</td>\n",
       "    </tr>\n",
       "    <tr>\n",
       "      <th>5057</th>\n",
       "      <td>&lt;NA&gt;</td>\n",
       "    </tr>\n",
       "    <tr>\n",
       "      <th>...</th>\n",
       "      <td>...</td>\n",
       "    </tr>\n",
       "    <tr>\n",
       "      <th>9961</th>\n",
       "      <td>&lt;NA&gt;</td>\n",
       "    </tr>\n",
       "    <tr>\n",
       "      <th>9972</th>\n",
       "      <td>&lt;NA&gt;</td>\n",
       "    </tr>\n",
       "    <tr>\n",
       "      <th>9986</th>\n",
       "      <td>&lt;NA&gt;</td>\n",
       "    </tr>\n",
       "    <tr>\n",
       "      <th>9987</th>\n",
       "      <td>&lt;NA&gt;</td>\n",
       "    </tr>\n",
       "    <tr>\n",
       "      <th>9997</th>\n",
       "      <td>&lt;NA&gt;</td>\n",
       "    </tr>\n",
       "  </tbody>\n",
       "</table>\n",
       "<p>965 rows × 1 columns</p>\n",
       "</div>"
      ],
      "text/plain": [
       "     Pan_Numbers\n",
       "5022        <NA>\n",
       "5027        <NA>\n",
       "5033        <NA>\n",
       "5043        <NA>\n",
       "5057        <NA>\n",
       "...          ...\n",
       "9961        <NA>\n",
       "9972        <NA>\n",
       "9986        <NA>\n",
       "9987        <NA>\n",
       "9997        <NA>\n",
       "\n",
       "[965 rows x 1 columns]"
      ]
     },
     "execution_count": 88,
     "metadata": {},
     "output_type": "execute_result"
    }
   ],
   "source": [
    "df[df[\"Pan_Numbers\"].isna()]"
   ]
  },
  {
   "cell_type": "code",
   "execution_count": 89,
   "id": "e03b37cf-9db4-497d-a53c-d1c627512fe6",
   "metadata": {},
   "outputs": [],
   "source": [
    "df=df.replace({\"Pan_Numbers\":\"\"},pd.NA)"
   ]
  },
  {
   "cell_type": "code",
   "execution_count": 90,
   "id": "52844fc2-7dd5-49c0-ab36-017ea6fa2d64",
   "metadata": {},
   "outputs": [
    {
     "data": {
      "text/html": [
       "<div>\n",
       "<style scoped>\n",
       "    .dataframe tbody tr th:only-of-type {\n",
       "        vertical-align: middle;\n",
       "    }\n",
       "\n",
       "    .dataframe tbody tr th {\n",
       "        vertical-align: top;\n",
       "    }\n",
       "\n",
       "    .dataframe thead th {\n",
       "        text-align: right;\n",
       "    }\n",
       "</style>\n",
       "<table border=\"1\" class=\"dataframe\">\n",
       "  <thead>\n",
       "    <tr style=\"text-align: right;\">\n",
       "      <th></th>\n",
       "      <th>Pan_Numbers</th>\n",
       "    </tr>\n",
       "  </thead>\n",
       "  <tbody>\n",
       "  </tbody>\n",
       "</table>\n",
       "</div>"
      ],
      "text/plain": [
       "Empty DataFrame\n",
       "Columns: [Pan_Numbers]\n",
       "Index: []"
      ]
     },
     "execution_count": 90,
     "metadata": {},
     "output_type": "execute_result"
    }
   ],
   "source": [
    "df[df[\"Pan_Numbers\"]==\"\"]"
   ]
  },
  {
   "cell_type": "code",
   "execution_count": 91,
   "id": "b4f0d7d6-a47a-431d-80e1-bb813981a023",
   "metadata": {},
   "outputs": [
    {
     "data": {
      "text/html": [
       "<div>\n",
       "<style scoped>\n",
       "    .dataframe tbody tr th:only-of-type {\n",
       "        vertical-align: middle;\n",
       "    }\n",
       "\n",
       "    .dataframe tbody tr th {\n",
       "        vertical-align: top;\n",
       "    }\n",
       "\n",
       "    .dataframe thead th {\n",
       "        text-align: right;\n",
       "    }\n",
       "</style>\n",
       "<table border=\"1\" class=\"dataframe\">\n",
       "  <thead>\n",
       "    <tr style=\"text-align: right;\">\n",
       "      <th></th>\n",
       "      <th>Pan_Numbers</th>\n",
       "    </tr>\n",
       "  </thead>\n",
       "  <tbody>\n",
       "    <tr>\n",
       "      <th>5019</th>\n",
       "      <td>&lt;NA&gt;</td>\n",
       "    </tr>\n",
       "    <tr>\n",
       "      <th>5020</th>\n",
       "      <td>&lt;NA&gt;</td>\n",
       "    </tr>\n",
       "    <tr>\n",
       "      <th>5022</th>\n",
       "      <td>&lt;NA&gt;</td>\n",
       "    </tr>\n",
       "    <tr>\n",
       "      <th>5027</th>\n",
       "      <td>&lt;NA&gt;</td>\n",
       "    </tr>\n",
       "    <tr>\n",
       "      <th>5033</th>\n",
       "      <td>&lt;NA&gt;</td>\n",
       "    </tr>\n",
       "    <tr>\n",
       "      <th>...</th>\n",
       "      <td>...</td>\n",
       "    </tr>\n",
       "    <tr>\n",
       "      <th>9961</th>\n",
       "      <td>&lt;NA&gt;</td>\n",
       "    </tr>\n",
       "    <tr>\n",
       "      <th>9972</th>\n",
       "      <td>&lt;NA&gt;</td>\n",
       "    </tr>\n",
       "    <tr>\n",
       "      <th>9986</th>\n",
       "      <td>&lt;NA&gt;</td>\n",
       "    </tr>\n",
       "    <tr>\n",
       "      <th>9987</th>\n",
       "      <td>&lt;NA&gt;</td>\n",
       "    </tr>\n",
       "    <tr>\n",
       "      <th>9997</th>\n",
       "      <td>&lt;NA&gt;</td>\n",
       "    </tr>\n",
       "  </tbody>\n",
       "</table>\n",
       "<p>967 rows × 1 columns</p>\n",
       "</div>"
      ],
      "text/plain": [
       "     Pan_Numbers\n",
       "5019        <NA>\n",
       "5020        <NA>\n",
       "5022        <NA>\n",
       "5027        <NA>\n",
       "5033        <NA>\n",
       "...          ...\n",
       "9961        <NA>\n",
       "9972        <NA>\n",
       "9986        <NA>\n",
       "9987        <NA>\n",
       "9997        <NA>\n",
       "\n",
       "[967 rows x 1 columns]"
      ]
     },
     "execution_count": 91,
     "metadata": {},
     "output_type": "execute_result"
    }
   ],
   "source": [
    "df[df[\"Pan_Numbers\"].isna()]"
   ]
  },
  {
   "cell_type": "code",
   "execution_count": 92,
   "id": "25565a14-834d-45ed-af90-c3fdc8fef606",
   "metadata": {},
   "outputs": [],
   "source": [
    "df=df.dropna(subset=\"Pan_Numbers\")"
   ]
  },
  {
   "cell_type": "code",
   "execution_count": 93,
   "id": "036215cd-71de-4630-a81f-bfccc9684a03",
   "metadata": {},
   "outputs": [
    {
     "data": {
      "text/html": [
       "<div>\n",
       "<style scoped>\n",
       "    .dataframe tbody tr th:only-of-type {\n",
       "        vertical-align: middle;\n",
       "    }\n",
       "\n",
       "    .dataframe tbody tr th {\n",
       "        vertical-align: top;\n",
       "    }\n",
       "\n",
       "    .dataframe thead th {\n",
       "        text-align: right;\n",
       "    }\n",
       "</style>\n",
       "<table border=\"1\" class=\"dataframe\">\n",
       "  <thead>\n",
       "    <tr style=\"text-align: right;\">\n",
       "      <th></th>\n",
       "      <th>Pan_Numbers</th>\n",
       "    </tr>\n",
       "  </thead>\n",
       "  <tbody>\n",
       "  </tbody>\n",
       "</table>\n",
       "</div>"
      ],
      "text/plain": [
       "Empty DataFrame\n",
       "Columns: [Pan_Numbers]\n",
       "Index: []"
      ]
     },
     "execution_count": 93,
     "metadata": {},
     "output_type": "execute_result"
    }
   ],
   "source": [
    "df[df[\"Pan_Numbers\"].isna()]"
   ]
  },
  {
   "cell_type": "code",
   "execution_count": 94,
   "id": "d5831da8-0c13-4a84-9d04-4932efb3003e",
   "metadata": {},
   "outputs": [
    {
     "name": "stdout",
     "output_type": "stream",
     "text": [
      "<class 'pandas.core.frame.DataFrame'>\n",
      "Index: 9033 entries, 0 to 9999\n",
      "Data columns (total 1 columns):\n",
      " #   Column       Non-Null Count  Dtype \n",
      "---  ------       --------------  ----- \n",
      " 0   Pan_Numbers  9033 non-null   string\n",
      "dtypes: string(1)\n",
      "memory usage: 141.1 KB\n"
     ]
    }
   ],
   "source": [
    "df.info()"
   ]
  },
  {
   "cell_type": "code",
   "execution_count": 95,
   "id": "f586cf25-6f69-4a9d-80cc-09fd9dd3057c",
   "metadata": {},
   "outputs": [
    {
     "data": {
      "text/plain": [
       "9025"
      ]
     },
     "execution_count": 95,
     "metadata": {},
     "output_type": "execute_result"
    }
   ],
   "source": [
    "df[\"Pan_Numbers\"].nunique()"
   ]
  },
  {
   "cell_type": "code",
   "execution_count": 96,
   "id": "c97e324a-4e02-4c37-b1c1-2af7243f6201",
   "metadata": {},
   "outputs": [],
   "source": [
    "df=df.drop_duplicates(subset=\"Pan_Numbers\",keep=\"first\")"
   ]
  },
  {
   "cell_type": "code",
   "execution_count": 97,
   "id": "cc59471a-8ffc-4665-97a7-001ba3fae734",
   "metadata": {},
   "outputs": [
    {
     "data": {
      "text/plain": [
       "9025"
      ]
     },
     "execution_count": 97,
     "metadata": {},
     "output_type": "execute_result"
    }
   ],
   "source": [
    "df[\"Pan_Numbers\"].nunique()"
   ]
  },
  {
   "cell_type": "code",
   "execution_count": 98,
   "id": "60a4eb10-160b-4e49-8109-9e62859ccaec",
   "metadata": {},
   "outputs": [],
   "source": [
    "def adjacent_repitition(pan):\n",
    "    for i in range(len(pan)-1):\n",
    "        if pan[i]==pan[i+1]:\n",
    "            return True\n",
    "    return False"
   ]
  },
  {
   "cell_type": "code",
   "execution_count": 99,
   "id": "6516bd29-db50-4a95-8802-5dfe15ad1700",
   "metadata": {},
   "outputs": [
    {
     "name": "stdout",
     "output_type": "stream",
     "text": [
      "True\n",
      "True\n",
      "False\n",
      "False\n"
     ]
    }
   ],
   "source": [
    "print(adjacent_repitition('AABCD'))\n",
    "print(adjacent_repitition('FGHHH'))\n",
    "print(adjacent_repitition('ABCDX'))\n",
    "print(adjacent_repitition('MNJPQ'))"
   ]
  },
  {
   "cell_type": "code",
   "execution_count": 100,
   "id": "f7a415e4-e505-4625-93e9-bfa99dd6b245",
   "metadata": {},
   "outputs": [],
   "source": [
    "def is_sequential(pan):\n",
    "    for i in range(len(pan) - 1):\n",
    "        if ord(pan[i+1]) - ord(pan[i]) != 1:\n",
    "            return False\n",
    "    return True\n"
   ]
  },
  {
   "cell_type": "code",
   "execution_count": 101,
   "id": "0121909d-7b11-44a9-bf1f-fd935fc22485",
   "metadata": {},
   "outputs": [
    {
     "name": "stdout",
     "output_type": "stream",
     "text": [
      "True\n",
      "True\n",
      "False\n",
      "False\n"
     ]
    }
   ],
   "source": [
    "print(is_sequential('ABCDE'))\n",
    "print(is_sequential('MNOPQ'))\n",
    "print(is_sequential('ABCXY'))\n",
    "print(is_sequential('XYZAB'))"
   ]
  },
  {
   "cell_type": "code",
   "execution_count": 102,
   "id": "58a64a54-c0d4-4d83-840d-dae3b6d62498",
   "metadata": {},
   "outputs": [],
   "source": [
    "def is_valid_pan(pan):\n",
    "    if len(pan)!=10:\n",
    "        return False\n",
    "    if not re.match(r'^[A-Z]{5}[0-9]{4}[A-Z]$',pan):\n",
    "        return False\n",
    "    if adjacent_repitition(pan):\n",
    "        return False\n",
    "    if is_sequential(pan):\n",
    "        return False\n",
    "    return True\n",
    "    "
   ]
  },
  {
   "cell_type": "code",
   "execution_count": 103,
   "id": "c8e64109-48c5-4c09-b40d-87de868b1a3f",
   "metadata": {},
   "outputs": [
    {
     "data": {
      "text/html": [
       "<div>\n",
       "<style scoped>\n",
       "    .dataframe tbody tr th:only-of-type {\n",
       "        vertical-align: middle;\n",
       "    }\n",
       "\n",
       "    .dataframe tbody tr th {\n",
       "        vertical-align: top;\n",
       "    }\n",
       "\n",
       "    .dataframe thead th {\n",
       "        text-align: right;\n",
       "    }\n",
       "</style>\n",
       "<table border=\"1\" class=\"dataframe\">\n",
       "  <thead>\n",
       "    <tr style=\"text-align: right;\">\n",
       "      <th></th>\n",
       "      <th>Pan_Numbers</th>\n",
       "      <th>Status</th>\n",
       "    </tr>\n",
       "  </thead>\n",
       "  <tbody>\n",
       "    <tr>\n",
       "      <th>0</th>\n",
       "      <td>VGLOD3180G</td>\n",
       "      <td>Valid</td>\n",
       "    </tr>\n",
       "    <tr>\n",
       "      <th>1</th>\n",
       "      <td>PHOXD7232L</td>\n",
       "      <td>Valid</td>\n",
       "    </tr>\n",
       "    <tr>\n",
       "      <th>2</th>\n",
       "      <td>MGEPH6532A</td>\n",
       "      <td>Valid</td>\n",
       "    </tr>\n",
       "    <tr>\n",
       "      <th>3</th>\n",
       "      <td>JJCHK4574O</td>\n",
       "      <td>invalid</td>\n",
       "    </tr>\n",
       "    <tr>\n",
       "      <th>4</th>\n",
       "      <td>XTQIJ2330L</td>\n",
       "      <td>invalid</td>\n",
       "    </tr>\n",
       "  </tbody>\n",
       "</table>\n",
       "</div>"
      ],
      "text/plain": [
       "  Pan_Numbers   Status\n",
       "0  VGLOD3180G    Valid\n",
       "1  PHOXD7232L    Valid\n",
       "2  MGEPH6532A    Valid\n",
       "3  JJCHK4574O  invalid\n",
       "4  XTQIJ2330L  invalid"
      ]
     },
     "execution_count": 103,
     "metadata": {},
     "output_type": "execute_result"
    }
   ],
   "source": [
    "df[\"Status\"]=df[\"Pan_Numbers\"].apply(lambda x: \"Valid\" if is_valid_pan(x) else \"invalid\")\n",
    "df.head()"
   ]
  },
  {
   "cell_type": "code",
   "execution_count": 104,
   "id": "367fad36-6836-48a1-b8a9-a76d28950d4e",
   "metadata": {},
   "outputs": [],
   "source": [
    "valid_cnt=(df[\"Status\"]==\"Valid\").sum()\n",
    "invalid_cnt=(df[\"Status\"]==\"invalid\").sum()\n",
    "missing_cnt=total_records-(valid_cnt+invalid_cnt)"
   ]
  },
  {
   "cell_type": "code",
   "execution_count": 105,
   "id": "be7bba63-5dfe-43d3-abc8-29f7889630dc",
   "metadata": {},
   "outputs": [
    {
     "name": "stdout",
     "output_type": "stream",
     "text": [
      "Total records = 10000\n",
      "Valid = 3193\n",
      "Invalid = 5832\n",
      "Missing = 975\n"
     ]
    }
   ],
   "source": [
    "print('Total records =',total_records)\n",
    "print('Valid =',valid_cnt)\n",
    "print('Invalid =',invalid_cnt)\n",
    "print('Missing =',missing_cnt)"
   ]
  },
  {
   "cell_type": "code",
   "execution_count": null,
   "id": "83bb02de-f300-4d2a-9b1c-83ce27097b3e",
   "metadata": {},
   "outputs": [],
   "source": []
  },
  {
   "cell_type": "code",
   "execution_count": null,
   "id": "e44adfd2-faeb-4cf9-8238-75260e45066d",
   "metadata": {},
   "outputs": [],
   "source": []
  }
 ],
 "metadata": {
  "kernelspec": {
   "display_name": "Python 3 (ipykernel)",
   "language": "python",
   "name": "python3"
  },
  "language_info": {
   "codemirror_mode": {
    "name": "ipython",
    "version": 3
   },
   "file_extension": ".py",
   "mimetype": "text/x-python",
   "name": "python",
   "nbconvert_exporter": "python",
   "pygments_lexer": "ipython3",
   "version": "3.13.5"
  }
 },
 "nbformat": 4,
 "nbformat_minor": 5
}
